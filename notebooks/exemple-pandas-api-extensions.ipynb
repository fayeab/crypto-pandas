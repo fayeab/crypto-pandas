{
 "cells": [
  {
   "cell_type": "markdown",
   "metadata": {},
   "source": [
    "## Chiffrement et déchiffrement avec l'api de Pandas"
   ]
  },
  {
   "cell_type": "markdown",
   "metadata": {},
   "source": [
    "**importation des packages**"
   ]
  },
  {
   "cell_type": "code",
   "execution_count": 1,
   "metadata": {},
   "outputs": [],
   "source": [
    "import os\n",
    "from Crypto.PublicKey import RSA\n",
    "from cryptopandas import pandas as pd\n",
    "import numpy as np"
   ]
  },
  {
   "cell_type": "markdown",
   "metadata": {
    "collapsed": true
   },
   "source": [
    "**Paths vers les clés**"
   ]
  },
  {
   "cell_type": "code",
   "execution_count": 2,
   "metadata": {},
   "outputs": [],
   "source": [
    "path_store_key = ''\n",
    "path_private_key = os.path.join(path_store_key, \"private.pem\")\n",
    "path_public_key = os.path.join(path_store_key, \"receiver.pem\")\n",
    "secret_code = \"Unguessable\" # Code secret pour lire la clé privée"
   ]
  },
  {
   "cell_type": "markdown",
   "metadata": {},
   "source": [
    "**Chiffrer le code secret avec l'algorithme RSA**\n",
    "* Les données sont chiffrées avec l'algorithme AES et un mot de passe. Ce mot de passe, chiffré avec l'algorithme RSA est stocké dans le fichier des données chiffrées.\n",
    "* Une clé publique est utilisée pour chiffrer le mot de passe.\n",
    "* Le destinataire recevra la clé privée pour déchiffrer le mot de passe. Celle-ci est accompagnée d'un code secret pour la lecture.\n",
    "* Lors du déchiffrement :\n",
    "   * Lire le mot de passe puis le déchiffrer avec la clé privée\n",
    "   * Utiliser le mot de passe pour déchiffrer les données"
   ]
  },
  {
   "cell_type": "code",
   "execution_count": 3,
   "metadata": {},
   "outputs": [],
   "source": [
    "# Generer la clé\n",
    "key = RSA.generate(2048)\n",
    "\n",
    "# Sauvegarder la clé privée. Il faudra disposer du code secret pour la lecture\n",
    "private_key = key.exportKey(passphrase=secret_code)\n",
    "outfile = open(path_private_key, \"wb\")\n",
    "outfile.write(private_key)\n",
    "outfile.close()\n",
    "\n",
    "# Sauvegader la clé pour chiffrer le code secret\n",
    "public_key = key.publickey().exportKey()\n",
    "outfile = open(path_public_key, \"wb\")\n",
    "outfile.write(public_key)\n",
    "outfile.close()"
   ]
  },
  {
   "cell_type": "markdown",
   "metadata": {},
   "source": [
    "**Créer un dataFrame**"
   ]
  },
  {
   "cell_type": "code",
   "execution_count": 4,
   "metadata": {},
   "outputs": [
    {
     "data": {
      "text/html": [
       "<div>\n",
       "<style scoped>\n",
       "    .dataframe tbody tr th:only-of-type {\n",
       "        vertical-align: middle;\n",
       "    }\n",
       "\n",
       "    .dataframe tbody tr th {\n",
       "        vertical-align: top;\n",
       "    }\n",
       "\n",
       "    .dataframe thead th {\n",
       "        text-align: right;\n",
       "    }\n",
       "</style>\n",
       "<table border=\"1\" class=\"dataframe\">\n",
       "  <thead>\n",
       "    <tr style=\"text-align: right;\">\n",
       "      <th></th>\n",
       "      <th>ID</th>\n",
       "      <th>DEPARTEMENT</th>\n",
       "      <th>NOM</th>\n",
       "      <th>AGE</th>\n",
       "      <th>SALAIRE</th>\n",
       "    </tr>\n",
       "  </thead>\n",
       "  <tbody>\n",
       "    <tr>\n",
       "      <th>0</th>\n",
       "      <td>001</td>\n",
       "      <td>Marketing</td>\n",
       "      <td>Arthur Rimbeaud</td>\n",
       "      <td>27</td>\n",
       "      <td>3000</td>\n",
       "    </tr>\n",
       "    <tr>\n",
       "      <th>1</th>\n",
       "      <td>002</td>\n",
       "      <td>Marketing</td>\n",
       "      <td>Aurore Dupond</td>\n",
       "      <td>35</td>\n",
       "      <td>5000</td>\n",
       "    </tr>\n",
       "    <tr>\n",
       "      <th>2</th>\n",
       "      <td>003</td>\n",
       "      <td>Informatique</td>\n",
       "      <td>Victor Hugo</td>\n",
       "      <td>30</td>\n",
       "      <td>4000</td>\n",
       "    </tr>\n",
       "    <tr>\n",
       "      <th>3</th>\n",
       "      <td>004</td>\n",
       "      <td>Ventes</td>\n",
       "      <td>Marcel Pagnol</td>\n",
       "      <td>25</td>\n",
       "      <td>2500</td>\n",
       "    </tr>\n",
       "  </tbody>\n",
       "</table>\n",
       "</div>"
      ],
      "text/plain": [
       "    ID   DEPARTEMENT              NOM  AGE  SALAIRE\n",
       "0  001     Marketing  Arthur Rimbeaud   27     3000\n",
       "1  002     Marketing    Aurore Dupond   35     5000\n",
       "2  003  Informatique      Victor Hugo   30     4000\n",
       "3  004        Ventes    Marcel Pagnol   25     2500"
      ]
     },
     "execution_count": 4,
     "metadata": {},
     "output_type": "execute_result"
    }
   ],
   "source": [
    "data = {\n",
    "    'ID' : ['001', '002', '003', '004'],\n",
    "    'DEPARTEMENT' : [\"Marketing\", \"Marketing\", \"Informatique\", \"Ventes\"],\n",
    "    'NOM' : ['Arthur Rimbeaud', 'Aurore Dupond', 'Victor Hugo', 'Marcel Pagnol'],\n",
    "    'AGE' : [27, 35, 30, 25],\n",
    "    'SALAIRE': [3000, 5000, 4000, 2500]\n",
    "}\n",
    "\n",
    "dtype = {\n",
    "    'ID' : str,\n",
    "    'DEPARTEMENT' : str,\n",
    "    'NOM' : str,\n",
    "    'AGE' : np.int64,\n",
    "    'SALAIRE': np.int64\n",
    "}\n",
    "\n",
    "data = pd.DataFrame(data)\n",
    "data"
   ]
  },
  {
   "cell_type": "code",
   "execution_count": 5,
   "metadata": {},
   "outputs": [
    {
     "data": {
      "text/plain": [
       "ID             object\n",
       "DEPARTEMENT    object\n",
       "NOM            object\n",
       "AGE             int64\n",
       "SALAIRE         int64\n",
       "dtype: object"
      ]
     },
     "execution_count": 5,
     "metadata": {},
     "output_type": "execute_result"
    }
   ],
   "source": [
    "data.dtypes"
   ]
  },
  {
   "cell_type": "markdown",
   "metadata": {},
   "source": [
    "**Chiffrer et stocker le dataframe**"
   ]
  },
  {
   "cell_type": "code",
   "execution_count": 6,
   "metadata": {},
   "outputs": [],
   "source": [
    "recipient_key = RSA.importKey(open(path_public_key).read())\n",
    "password = b'ungessaaaaaaable'\n",
    "data.crypto.to_encrypt_file(path_file='data.ind',\n",
    "                            recipient_key=recipient_key,\n",
    "                            password=password)"
   ]
  },
  {
   "cell_type": "markdown",
   "metadata": {},
   "source": [
    "**Lire et déchiffrer un fichier pour le transformer en dataframe**"
   ]
  },
  {
   "cell_type": "code",
   "execution_count": 7,
   "metadata": {},
   "outputs": [],
   "source": [
    "private_key = RSA.importKey(open(path_private_key).read(), passphrase=secret_code)\n",
    "data_ = pd.read_decrypt(path_file='data.ind',\n",
    "                        dtype=dtype,\n",
    "                        private_key=private_key)"
   ]
  },
  {
   "cell_type": "code",
   "execution_count": 8,
   "metadata": {},
   "outputs": [
    {
     "data": {
      "text/plain": [
       "True"
      ]
     },
     "execution_count": 8,
     "metadata": {},
     "output_type": "execute_result"
    }
   ],
   "source": [
    "data.equals(data_)"
   ]
  }
 ],
 "metadata": {
  "kernelspec": {
   "display_name": "Python 3",
   "language": "python",
   "name": "python3"
  },
  "language_info": {
   "codemirror_mode": {
    "name": "ipython",
    "version": 3
   },
   "file_extension": ".py",
   "mimetype": "text/x-python",
   "name": "python",
   "nbconvert_exporter": "python",
   "pygments_lexer": "ipython3",
   "version": "3.7.9"
  }
 },
 "nbformat": 4,
 "nbformat_minor": 2
}
